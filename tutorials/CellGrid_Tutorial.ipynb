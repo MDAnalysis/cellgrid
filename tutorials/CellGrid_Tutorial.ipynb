{
 "cells": [
  {
   "cell_type": "markdown",
   "metadata": {},
   "source": [
    "# CellGrid tutorial\n",
    "\n",
    "CellGrids are an object than contains coordinates, which are split into Cells"
   ]
  },
  {
   "cell_type": "code",
   "execution_count": 1,
   "metadata": {
    "collapsed": true
   },
   "outputs": [],
   "source": [
    "import numpy as np\n",
    "import cellgrid"
   ]
  },
  {
   "cell_type": "markdown",
   "metadata": {},
   "source": [
    "We'll start with 10,000 randomly spaced points inside a 10 x 10 x 10 box.\n",
    "\n",
    "Note that all coordinates must be inside the box (within 0.0 and 10.0) to use a CellGrid"
   ]
  },
  {
   "cell_type": "code",
   "execution_count": 2,
   "metadata": {
    "collapsed": true
   },
   "outputs": [],
   "source": [
    "coords = np.random.random(30000).reshape(10000, 3).astype(np.float32) * 10.0\n",
    "box = np.ones(3).astype(np.float32) * 10.0"
   ]
  },
  {
   "cell_type": "markdown",
   "metadata": {},
   "source": [
    "We create a CellGrid by specifying the box, the width of a cell (1.2 in this example), and the coordinates."
   ]
  },
  {
   "cell_type": "code",
   "execution_count": 3,
   "metadata": {
    "collapsed": false
   },
   "outputs": [
    {
     "name": "stdout",
     "output_type": "stream",
     "text": [
      "<CellGrid with dimensions 8, 8, 8>\n"
     ]
    }
   ],
   "source": [
    "cg = cellgrid.CellGrid(box, 1.2, coords)\n",
    "print cg"
   ]
  },
  {
   "cell_type": "markdown",
   "metadata": {},
   "source": [
    "The CellGrid object has grouped the coordinates into cells in a 8x8x8 grid.  Each cell has a minimum size of 1.2 x 1.2 x 1.2.\n",
    "\n",
    "The CellGrid then provides access to Cells."
   ]
  },
  {
   "cell_type": "code",
   "execution_count": 4,
   "metadata": {
    "collapsed": false
   },
   "outputs": [
    {
     "name": "stdout",
     "output_type": "stream",
     "text": [
      "<Cell at (4, 2, 0) with 14 coords>\n"
     ]
    }
   ],
   "source": [
    "cell = cg[20]\n",
    "print cell"
   ]
  },
  {
   "cell_type": "markdown",
   "metadata": {},
   "source": [
    "Cells contain positions and indices.\n",
    "The indices tell you the original identity of the coordinates."
   ]
  },
  {
   "cell_type": "code",
   "execution_count": 5,
   "metadata": {
    "collapsed": false
   },
   "outputs": [
    {
     "name": "stdout",
     "output_type": "stream",
     "text": [
      "[[ 5.76523256  3.29482055  0.66672134]\n",
      " [ 5.48817587  2.68501782  0.17203531]\n",
      " [ 5.48174429  2.99204135  0.21953689]\n",
      " [ 5.63022995  3.58832932  1.09244275]\n",
      " [ 5.82996941  2.55967116  0.46783131]\n",
      " [ 6.0887394   3.06209278  0.95498252]\n",
      " [ 5.36530304  2.55250669  0.09474408]\n",
      " [ 5.78432322  3.45284486  0.00706167]\n",
      " [ 5.22742748  3.09078646  0.203667  ]\n",
      " [ 5.43257761  3.03484559  0.20778763]\n",
      " [ 5.18024921  3.36191201  0.12819624]\n",
      " [ 6.15215969  2.98257637  0.32198134]\n",
      " [ 5.23517132  2.98871493  0.33490485]\n",
      " [ 5.83198166  3.21546292  1.23343873]]\n",
      "[2224  591 8031  325 9925 6296 8608 6862  243 4281 1667  705 1377 4201]\n"
     ]
    }
   ],
   "source": [
    "print cell.coordinates\n",
    "print cell.indices"
   ]
  },
  {
   "cell_type": "markdown",
   "metadata": {},
   "source": [
    "## Cells and neighbours\n",
    "\n",
    "Cells all have an address, which defines their location in cartesian coordinates within the parent CellGrid."
   ]
  },
  {
   "cell_type": "code",
   "execution_count": 6,
   "metadata": {
    "collapsed": false
   },
   "outputs": [
    {
     "name": "stdout",
     "output_type": "stream",
     "text": [
      "I live at:  (4, 2, 0)\n",
      "Half my neighbours are:  [[ 5  2  0]\n",
      " [ 5  3  0]\n",
      " [ 4  3  0]\n",
      " [ 3  3  0]\n",
      " [ 5  2 -1]\n",
      " [ 5  3 -1]\n",
      " [ 4  3 -1]\n",
      " [ 3  3 -1]\n",
      " [ 5  2  1]\n",
      " [ 5  3  1]\n",
      " [ 4  3  1]\n",
      " [ 3  3  1]\n",
      " [ 4  2  1]]\n"
     ]
    }
   ],
   "source": [
    "print 'I live at: ', cell.address\n",
    "print 'Half my neighbours are: ', cell.half_neighbours"
   ]
  },
  {
   "cell_type": "code",
   "execution_count": 7,
   "metadata": {
    "collapsed": false
   },
   "outputs": [
    {
     "name": "stdout",
     "output_type": "stream",
     "text": [
      "<Cell at (5, 2, 0) with 22 coords>\n",
      "<Cell at (5, 3, 0) with 26 coords>\n",
      "<Cell at (4, 3, 0) with 17 coords>\n",
      "<Cell at (3, 3, 0) with 22 coords>\n",
      "<Cell at (5, 2, 7) with 16 coords>\n",
      "<Cell at (5, 3, 7) with 17 coords>\n",
      "<Cell at (4, 3, 7) with 18 coords>\n",
      "<Cell at (3, 3, 7) with 27 coords>\n",
      "<Cell at (5, 2, 1) with 22 coords>\n",
      "<Cell at (5, 3, 1) with 18 coords>\n",
      "<Cell at (4, 3, 1) with 21 coords>\n",
      "<Cell at (3, 3, 1) with 22 coords>\n",
      "<Cell at (4, 2, 1) with 18 coords>\n"
     ]
    }
   ],
   "source": [
    "for other_address in cell.half_neighbours:\n",
    "    other_cell = cg[other_address]\n",
    "    print other_cell"
   ]
  },
  {
   "cell_type": "markdown",
   "metadata": {},
   "source": [
    "Cells can iterate over either \"half_neighbours\" or \"all_neighbours\"."
   ]
  },
  {
   "cell_type": "code",
   "execution_count": 8,
   "metadata": {
    "collapsed": false
   },
   "outputs": [
    {
     "name": "stdout",
     "output_type": "stream",
     "text": [
      "13\n",
      "26\n"
     ]
    }
   ],
   "source": [
    "print len(cell.half_neighbours)\n",
    "print len(cell.all_neighbours)"
   ]
  },
  {
   "cell_type": "markdown",
   "metadata": {},
   "source": [
    "All neighbours returns the address of all 26 neighbouring cells to a given cell.  These can be put into a CellGrid to get the Cell at that address.\n",
    "\n",
    "Half neighbours refer to iterating over all 13 neighbouring cells in one direction.\n",
    "This pattern prevents pairs being calculated twice.\n",
    "If you are interested in all pairwise comparisons within a CellGrid, you likely want to use `half_neighbours`.\n",
    "\n",
    "Note that neither list of neighbour addresses includes the cell itself!"
   ]
  },
  {
   "cell_type": "markdown",
   "metadata": {},
   "source": [
    "## Finding all pairs within 1.2 of each other\n",
    "\n",
    "Now that the coordinates have been sorted into cells, all nearby pairs can be found in a more efficient way.\n",
    "\n",
    "First we need to calculate the total number of pairs we need to calculate."
   ]
  },
  {
   "cell_type": "code",
   "execution_count": 9,
   "metadata": {
    "collapsed": false
   },
   "outputs": [
    {
     "name": "stdout",
     "output_type": "stream",
     "text": [
      "2634055\n"
     ]
    }
   ],
   "source": [
    "n = 0\n",
    "for c in cg:\n",
    "    ncell = len(c)\n",
    "    n += ncell * (ncell - 1) // 2  # number of pairs within this cell\n",
    "    for other_address in c.half_neighbours:\n",
    "        n += ncell * len(cg[other_address])\n",
    "        \n",
    "print n"
   ]
  },
  {
   "cell_type": "markdown",
   "metadata": {},
   "source": [
    "Doing a brute force nxn matrix of our 10,000 coordinates would result in 100 million pairwise comparisons, using a CellGrid has reduced this to 2.6 million.\n",
    "\n",
    "We can now allocate the results arrays for our search.  We will calculate both the distances and the identity of the pairs."
   ]
  },
  {
   "cell_type": "code",
   "execution_count": 10,
   "metadata": {
    "collapsed": true
   },
   "outputs": [],
   "source": [
    "distances = np.zeros(n, dtype=np.float32)\n",
    "pair_indices = np.zeros((n, 2), dtype=np.int)"
   ]
  },
  {
   "cell_type": "code",
   "execution_count": 11,
   "metadata": {
    "collapsed": false
   },
   "outputs": [],
   "source": [
    "from cellgrid.cgmath import (\n",
    "    inter_distance_array_withpbc,\n",
    "    intra_distance_array_withpbc,\n",
    "    inter_index_array,\n",
    "    intra_index_array\n",
    ")"
   ]
  },
  {
   "cell_type": "code",
   "execution_count": 12,
   "metadata": {
    "collapsed": false
   },
   "outputs": [],
   "source": [
    "pos = 0  # pointer to where in the array to fill results\n",
    "for c in cg:\n",
    "    lenc = len(c)\n",
    "    intra_distance_array_withpbc(c.coordinates, box, distances[pos:])\n",
    "    intra_index_array(c.indices, pair_indices[pos:])\n",
    "    pos += lenc * (lenc - 1) // 2\n",
    "    for other_address in c.half_neighbours:\n",
    "        other = cg[other_address]\n",
    "        inter_distance_array_withpbc(c.coordinates, other.coordinates, box, distances[pos:])\n",
    "        inter_index_array(c.indices, other.indices, pair_indices[pos:])\n",
    "        pos += lenc * len(other)"
   ]
  },
  {
   "cell_type": "markdown",
   "metadata": {},
   "source": [
    "Taking for example the 100th result, this tells us that coordinates 3,152 and 3,093 are separated by 0.374 units of distance."
   ]
  },
  {
   "cell_type": "code",
   "execution_count": 26,
   "metadata": {
    "collapsed": false
   },
   "outputs": [
    {
     "name": "stdout",
     "output_type": "stream",
     "text": [
      "0.374015 [3152 3093]\n",
      "0.374015\n"
     ]
    }
   ],
   "source": [
    "print distances[100], pair_indices[100]\n",
    "print np.linalg.norm(coords[3152] - coords[3093])"
   ]
  },
  {
   "cell_type": "markdown",
   "metadata": {},
   "source": [
    "This method will have found all pairs within 1.2 of each other, but also many pairs that are slightly above this.\n",
    "\n",
    "The extra pairs can easily be filtered out using a mask."
   ]
  },
  {
   "cell_type": "code",
   "execution_count": 14,
   "metadata": {
    "collapsed": false
   },
   "outputs": [],
   "source": [
    "new_distances, new_pairs = distances[distances < 1.2], pair_indices[distances < 1.2]"
   ]
  },
  {
   "cell_type": "code",
   "execution_count": 15,
   "metadata": {
    "collapsed": false
   },
   "outputs": [
    {
     "data": {
      "text/plain": [
       "361095"
      ]
     },
     "execution_count": 15,
     "metadata": {},
     "output_type": "execute_result"
    }
   ],
   "source": [
    "len(new_distances)"
   ]
  },
  {
   "cell_type": "code",
   "execution_count": 16,
   "metadata": {
    "collapsed": false
   },
   "outputs": [
    {
     "name": "stdout",
     "output_type": "stream",
     "text": [
      "True\n"
     ]
    }
   ],
   "source": [
    "print (new_distances < 1.2).all()"
   ]
  },
  {
   "cell_type": "markdown",
   "metadata": {},
   "source": [
    "We can check that we found all pairs by performing the brute force method to finding pairs."
   ]
  },
  {
   "cell_type": "code",
   "execution_count": 17,
   "metadata": {
    "collapsed": true
   },
   "outputs": [],
   "source": [
    "brute_force = np.zeros(10000 * 10000, dtype=np.float32)"
   ]
  },
  {
   "cell_type": "code",
   "execution_count": 18,
   "metadata": {
    "collapsed": true
   },
   "outputs": [],
   "source": [
    "inter_distance_array_withpbc(coords, coords, box, brute_force)"
   ]
  },
  {
   "cell_type": "code",
   "execution_count": 19,
   "metadata": {
    "collapsed": false
   },
   "outputs": [
    {
     "data": {
      "text/plain": [
       "732190"
      ]
     },
     "execution_count": 19,
     "metadata": {},
     "output_type": "execute_result"
    }
   ],
   "source": [
    "(brute_force < 1.2).sum()"
   ]
  },
  {
   "cell_type": "code",
   "execution_count": 20,
   "metadata": {
    "collapsed": true
   },
   "outputs": [],
   "source": [
    "b2 = brute_force[brute_force < 1.2]"
   ]
  },
  {
   "cell_type": "markdown",
   "metadata": {},
   "source": [
    "To calculate the number of unique pairs using this approach, we look at all pairs with distance less than 1.2, then subtract 10,000 (the number of coordinates, which are "
   ]
  },
  {
   "cell_type": "code",
   "execution_count": 25,
   "metadata": {
    "collapsed": false
   },
   "outputs": [
    {
     "data": {
      "text/plain": [
       "361095"
      ]
     },
     "execution_count": 25,
     "metadata": {},
     "output_type": "execute_result"
    }
   ],
   "source": [
    "(len(b2) - 10000) / 2"
   ]
  },
  {
   "cell_type": "code",
   "execution_count": null,
   "metadata": {
    "collapsed": true
   },
   "outputs": [],
   "source": []
  }
 ],
 "metadata": {
  "kernelspec": {
   "display_name": "Python 2",
   "language": "python",
   "name": "python2"
  },
  "language_info": {
   "codemirror_mode": {
    "name": "ipython",
    "version": 2
   },
   "file_extension": ".py",
   "mimetype": "text/x-python",
   "name": "python",
   "nbconvert_exporter": "python",
   "pygments_lexer": "ipython2",
   "version": "2.7.6"
  }
 },
 "nbformat": 4,
 "nbformat_minor": 0
}
